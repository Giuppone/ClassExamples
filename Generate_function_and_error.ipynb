{
  "nbformat": 4,
  "nbformat_minor": 0,
  "metadata": {
    "colab": {
      "name": "Generate-function-and-error.ipynb",
      "provenance": [],
      "collapsed_sections": [],
      "authorship_tag": "ABX9TyNWzSFw0Sq2ALYT3iEf2AAZ",
      "include_colab_link": true
    },
    "kernelspec": {
      "name": "python3",
      "display_name": "Python 3"
    },
    "language_info": {
      "name": "python"
    }
  },
  "cells": [
    {
      "cell_type": "markdown",
      "metadata": {
        "id": "view-in-github",
        "colab_type": "text"
      },
      "source": [
        "<a href=\"https://colab.research.google.com/github/Giuppone/ClassExamples/blob/main/Generate_function_and_error.ipynb\" target=\"_parent\"><img src=\"https://colab.research.google.com/assets/colab-badge.svg\" alt=\"Open In Colab\"/></a>"
      ]
    },
    {
      "cell_type": "code",
      "metadata": {
        "id": "9I3-9BY9raYn"
      },
      "source": [
        "#Importo librerías\n",
        "%matplotlib inline\n",
        "import matplotlib.pyplot as plt\n",
        "import numpy as np\n",
        "import numpy\n",
        "from math import *    #importa todas las operaciones matemáticas de math (sin, cos, tan, sqrt, pi, etc)\n",
        "plt.style.use('classic')\n",
        "import pandas\n",
        "#IMporto nuevos paquetes para integración\n",
        "import scipy.integrate as integrate\n",
        "import scipy.special as special"
      ],
      "execution_count": null,
      "outputs": []
    },
    {
      "cell_type": "code",
      "metadata": {
        "id": "YyG6aAcdrf1P"
      },
      "source": [
        "# def ae(e,M):\n"
      ],
      "execution_count": null,
      "outputs": []
    },
    {
      "cell_type": "code",
      "metadata": {
        "colab": {
          "base_uri": "https://localhost:8080/"
        },
        "id": "cofXdogSrkOR",
        "outputId": "77b139f8-b5d3-47a3-bae4-338883adfbbb"
      },
      "source": [
        "#ciclos\n",
        "i = 0\n",
        "while i <= 10:\n",
        "  print (i,i**2)\n",
        "  i=i+1\n",
        "  "
      ],
      "execution_count": null,
      "outputs": [
        {
          "output_type": "stream",
          "name": "stdout",
          "text": [
            "0 0\n",
            "1 1\n",
            "2 4\n",
            "3 9\n",
            "4 16\n",
            "5 25\n",
            "6 36\n",
            "7 49\n",
            "8 64\n",
            "9 81\n",
            "10 100\n"
          ]
        }
      ]
    },
    {
      "cell_type": "code",
      "metadata": {
        "id": "b0Sqd5nHdbtS"
      },
      "source": [
        "#distribuciones\n",
        "media = 0.5\n",
        "sigma = 0.1\n",
        "ntot  = 10000\n",
        "min   = 0.2\n",
        "max   = 1.2\n",
        "\n",
        "\n",
        "# np.random.uniform?\n",
        "ruido   = np.random.uniform(min,max,ntot)\n",
        "# ruido   = np.random.normal(media, sigma, [ntot])"
      ],
      "execution_count": null,
      "outputs": []
    },
    {
      "cell_type": "code",
      "metadata": {
        "colab": {
          "base_uri": "https://localhost:8080/"
        },
        "id": "61-JUlywf53Z",
        "outputId": "59f16a4f-f4ea-449f-b3d1-84a40cf7a7c2"
      },
      "source": [
        "# ruido  #imprime ruido\n",
        "ruido.shape\n",
        "# plt.hist(ruido, bins=(np.arange(0.2,1.2,0.05)))"
      ],
      "execution_count": null,
      "outputs": [
        {
          "output_type": "execute_result",
          "data": {
            "text/plain": [
              "(10000,)"
            ]
          },
          "metadata": {},
          "execution_count": 5
        }
      ]
    },
    {
      "cell_type": "code",
      "metadata": {
        "colab": {
          "base_uri": "https://localhost:8080/",
          "height": 359
        },
        "id": "JddT4chpg_qn",
        "outputId": "8ddb1030-ecf2-48a4-ad57-720d0b9c6164"
      },
      "source": [
        "ruido   = np.random.normal(100, 0.5, ntot)\n",
        "plt.hist(ruido)"
      ],
      "execution_count": null,
      "outputs": [
        {
          "output_type": "execute_result",
          "data": {
            "text/plain": [
              "(array([   7.,   92.,  381., 1260., 2452., 2813., 1942.,  837.,  191.,\n",
              "          25.]), array([ 98.0596848 ,  98.42636186,  98.79303892,  99.15971598,\n",
              "         99.52639304,  99.8930701 , 100.25974716, 100.62642422,\n",
              "        100.99310127, 101.35977833, 101.72645539]), <a list of 10 Patch objects>)"
            ]
          },
          "metadata": {},
          "execution_count": 6
        },
        {
          "output_type": "display_data",
          "data": {
            "image/png": "[encoded data removed]",
            "text/plain": [
              "<Figure size 432x288 with 1 Axes>"
            ]
          },
          "metadata": {
            "needs_background": "light"
          }
        }
      ]
    },
    {
      "cell_type": "code",
      "metadata": {
        "colab": {
          "base_uri": "https://localhost:8080/"
        },
        "id": "I41SqQSEj2jG",
        "outputId": "ef055508-7e88-4c82-b164-d5118dbb087c"
      },
      "source": [
        "M  = 120*pi/180.\n",
        "ec = 0.3\n",
        "print(M)"
      ],
      "execution_count": null,
      "outputs": [
        {
          "output_type": "stream",
          "name": "stdout",
          "text": [
            "2.0943951023931953\n"
          ]
        }
      ]
    },
    {
      "cell_type": "code",
      "metadata": {
        "colab": {
          "base_uri": "https://localhost:8080/"
        },
        "id": "Alv432Qli-xf",
        "outputId": "6c8b5e30-e54a-4b47-e8d5-37db1c546d2a"
      },
      "source": [
        "%time\n",
        "i = 0\n",
        "E = M\n",
        "while i <= 1000:\n",
        "  Ei = E\n",
        "  E  = M+ec*sin(E)\n",
        "  # print (E, M, ec, abs(Ei-E))\n",
        "  i=i+1\n",
        "\n",
        "# print (E,ec)"
      ],
      "execution_count": null,
      "outputs": [
        {
          "output_type": "stream",
          "name": "stdout",
          "text": [
            "CPU times: user 3 µs, sys: 1 µs, total: 4 µs\n",
            "Wall time: 7.87 µs\n"
          ]
        }
      ]
    },
    {
      "cell_type": "code",
      "metadata": {
        "id": "vM5F9TR5lbzH"
      },
      "source": [
        "\n",
        "def ae(ec,M):\n",
        "  i = 0\n",
        "  E = M\n",
        "  while i <= 100:\n",
        "    Ei = E \n",
        "    E  = M+ec*sin(E)\n",
        "  # print (E, M, ec, abs(Ei-E))\n",
        "    i=i+1\n",
        "    if (abs(E-Ei)<1e-5): break\n",
        "  return E"
      ],
      "execution_count": null,
      "outputs": []
    },
    {
      "cell_type": "code",
      "metadata": {
        "colab": {
          "base_uri": "https://localhost:8080/"
        },
        "id": "w1QVTTcGIXZv",
        "outputId": "65aeadd3-a620-499a-dc84-000910871e46"
      },
      "source": [
        "print (1e-5*9,e )\n",
        "print (1e-9, ec )\n"
      ],
      "execution_count": null,
      "outputs": [
        {
          "output_type": "stream",
          "name": "stdout",
          "text": [
            "9e-05 2.718281828459045\n",
            "1e-09 0.3\n"
          ]
        }
      ]
    },
    {
      "cell_type": "code",
      "metadata": {
        "colab": {
          "base_uri": "https://localhost:8080/"
        },
        "id": "8L90BoQOlwwz",
        "outputId": "bde129c2-4aa6-43d9-d536-5997be762940"
      },
      "source": [
        "#elijo valores de 120 grados\n",
        "ec=0.2\n",
        "M=120*pi/180.\n",
        "E = ae(ec,M)\n",
        "\n",
        "# print (E, E[1])\n",
        "print (E, M+ec*sin(E),sin(pi/2.) )"
      ],
      "execution_count": null,
      "outputs": [
        {
          "output_type": "stream",
          "name": "stdout",
          "text": [
            "2.250008098528418 2.250008724309289 1.0\n"
          ]
        }
      ]
    },
    {
      "cell_type": "code",
      "metadata": {
        "id": "OvINdVWLoZDR"
      },
      "source": [
        ""
      ],
      "execution_count": null,
      "outputs": []
    },
    {
      "cell_type": "code",
      "metadata": {
        "id": "v5Aj4Gngn6r7"
      },
      "source": [
        "def As(A,nu,t):\n",
        "  func = A*sin(nu*t)\n",
        "  return func"
      ],
      "execution_count": null,
      "outputs": []
    },
    {
      "cell_type": "code",
      "metadata": {
        "colab": {
          "base_uri": "https://localhost:8080/"
        },
        "id": "oYWtw0wLpMxV",
        "outputId": "1393741d-eaa2-4140-9b54-2827abe3a17f"
      },
      "source": [
        "A  = 10\n",
        "nu = 0.5\n",
        "t  = 5\n",
        "\n",
        "print (As(A,nu,t))"
      ],
      "execution_count": null,
      "outputs": [
        {
          "output_type": "stream",
          "name": "stdout",
          "text": [
            "5.984721441039565\n"
          ]
        }
      ]
    },
    {
      "cell_type": "code",
      "metadata": {
        "colab": {
          "base_uri": "https://localhost:8080/"
        },
        "id": "6pTA0yt-pnZR",
        "outputId": "487f82cc-2894-4b48-e508-ee8398876021"
      },
      "source": [
        "t=np.arange(0,100,1)\n",
        "t"
      ],
      "execution_count": null,
      "outputs": [
        {
          "output_type": "execute_result",
          "data": {
            "text/plain": [
              "array([ 0,  1,  2,  3,  4,  5,  6,  7,  8,  9, 10, 11, 12, 13, 14, 15, 16,\n",
              "       17, 18, 19, 20, 21, 22, 23, 24, 25, 26, 27, 28, 29, 30, 31, 32, 33,\n",
              "       34, 35, 36, 37, 38, 39, 40, 41, 42, 43, 44, 45, 46, 47, 48, 49, 50,\n",
              "       51, 52, 53, 54, 55, 56, 57, 58, 59, 60, 61, 62, 63, 64, 65, 66, 67,\n",
              "       68, 69, 70, 71, 72, 73, 74, 75, 76, 77, 78, 79, 80, 81, 82, 83, 84,\n",
              "       85, 86, 87, 88, 89, 90, 91, 92, 93, 94, 95, 96, 97, 98, 99])"
            ]
          },
          "metadata": {},
          "execution_count": 14
        }
      ]
    },
    {
      "cell_type": "code",
      "metadata": {
        "id": "bs8C6jPlqHDg"
      },
      "source": [
        "def Asnp(A,nu,t):   #modifico el sin, para que utilice libreria np y trabaja con vector\n",
        "  funcnp = A*np.sin(nu*t)\n",
        "  return funcnp"
      ],
      "execution_count": null,
      "outputs": []
    },
    {
      "cell_type": "code",
      "metadata": {
        "colab": {
          "base_uri": "https://localhost:8080/"
        },
        "id": "WUB3hd1bqcjK",
        "outputId": "063b20cc-cd87-472b-d5ec-fc0a5734fa14"
      },
      "source": [
        "# print (Asnp(A,nu,t)) ;\n",
        "Vr = Asnp(A,nu,t)\n",
        "print (Vr.shape, t.shape)"
      ],
      "execution_count": null,
      "outputs": [
        {
          "output_type": "stream",
          "name": "stdout",
          "text": [
            "(100,) (100,)\n"
          ]
        }
      ]
    },
    {
      "cell_type": "code",
      "metadata": {
        "colab": {
          "base_uri": "https://localhost:8080/",
          "height": 291
        },
        "id": "MizTG5C3q3wE",
        "outputId": "b213acda-d7e2-4cca-bfe7-c8505ded1a95"
      },
      "source": [
        "plt.plot(t,Vr, marker='o', c='k')\n",
        "plt.scatter(t,Vr, marker='o')\n"
      ],
      "execution_count": null,
      "outputs": [
        {
          "output_type": "execute_result",
          "data": {
            "text/plain": [
              "<matplotlib.collections.PathCollection at 0x7f7bda43ffd0>"
            ]
          },
          "metadata": {},
          "execution_count": 17
        },
        {
          "output_type": "display_data",
          "data": {
            "image/png": "[encoded data removed]",
            "text/plain": [
              "<Figure size 432x288 with 1 Axes>"
            ]
          },
          "metadata": {
            "needs_background": "light"
          }
        }
      ]
    },
    {
      "cell_type": "code",
      "metadata": {
        "colab": {
          "base_uri": "https://localhost:8080/",
          "height": 291
        },
        "id": "iWFgpiTurVFY",
        "outputId": "a2816809-c7d8-4ba2-d505-f6384851cc39"
      },
      "source": [
        "# primera modificación es elegir datos aleatorios\n",
        "# segunda sumar ruido\n",
        "tobs  = np.random.uniform(0,100,100)\n",
        "\n",
        "media = 0. \n",
        "sigma = 2 #fraccion de A \n",
        "error_gaus = np.random.normal(media, sigma, 100)\n",
        "\n",
        "Vre = Asnp(A,nu,tobs) + error_gaus\n",
        " \n",
        "plt.plot(t,Vr, c='k')\n",
        "plt.scatter(tobs,Vre, marker='o', c='blue')"
      ],
      "execution_count": null,
      "outputs": [
        {
          "output_type": "execute_result",
          "data": {
            "text/plain": [
              "<matplotlib.collections.PathCollection at 0x7f7bda44d410>"
            ]
          },
          "metadata": {},
          "execution_count": 18
        },
        {
          "output_type": "display_data",
          "data": {
            "image/png": "[encoded data removed]",
            "text/plain": [
              "<Figure size 432x288 with 1 Axes>"
            ]
          },
          "metadata": {
            "needs_background": "light"
          }
        }
      ]
    },
    {
      "cell_type": "code",
      "metadata": {
        "id": "AS2W-UDddDrc"
      },
      "source": [
        "def wrmsdatos(Vr,Vre,n):\n",
        "  i=0\n",
        "  sum=0.0\n",
        "  while i<len(Vr):\n",
        "    error_i     =0.2    #columna error va a ser dato\n",
        "    error_jitter=0.2\n",
        "    sigma_i = error_i**2+error_jitter**2\n",
        "\n",
        "    sum=  (Vr[i]-Vre[i])**2 / sigma_i**2 + sum\n",
        "    # print(sum,i)\n",
        "    i = i+1\n",
        "  return sum  \n",
        "\n",
        "# data = np.loadtxt('datos.txt', usecols = (0, 1, 2))"
      ],
      "execution_count": null,
      "outputs": []
    },
    {
      "cell_type": "code",
      "metadata": {
        "id": "Xml7JDLcUnn8"
      },
      "source": [
        ""
      ],
      "execution_count": null,
      "outputs": []
    }
  ]
}